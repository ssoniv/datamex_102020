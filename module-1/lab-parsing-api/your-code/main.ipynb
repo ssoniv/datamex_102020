{
 "cells": [
  {
   "cell_type": "markdown",
   "metadata": {},
   "source": [
    "# Challenge: Promotions\n",
    "\n",
    "In this challenge, you'll develop codes to parse and analyze data returned from another API on Zalando such as [Promos homme (Men's Promotions)\n",
    "](https://www.zalando.fr/promo-homme/) or [Promos femme (Women's Promotions)](https://www.zalando.fr/promo-femme/). The workflow is almost the same as in the guided lesson but you'll work with different data."
   ]
  },
  {
   "cell_type": "markdown",
   "metadata": {},
   "source": [
    "## Obtaining the link\n",
    "\n",
    "Wrote your codes in the cell below to obtain the data from the API endpoint you choose. A recap of the workflow:\n",
    "\n",
    "1. Examine the webpages and choose one that you want to work with.\n",
    "\n",
    "1. Use Google Chrome's DevTools to inspect the XHR network requests. Find out the API endpoint that serves data to the webpage.\n",
    "\n",
    "1. Test the API endpoint in the browser to verify its data.\n",
    "\n",
    "1. Change the page number offset of the API URL to test if it's working."
   ]
  },
  {
   "cell_type": "code",
   "execution_count": 68,
   "metadata": {},
   "outputs": [
    {
     "data": {
      "text/plain": [
       "{'count': 24,\n",
       " 'next': 'https://pokeapi.co/api/v2/pokedex?offset=20&limit=4',\n",
       " 'previous': None,\n",
       " 'results': [{'name': 'national',\n",
       "   'url': 'https://pokeapi.co/api/v2/pokedex/1/'},\n",
       "  {'name': 'kanto', 'url': 'https://pokeapi.co/api/v2/pokedex/2/'},\n",
       "  {'name': 'original-johto', 'url': 'https://pokeapi.co/api/v2/pokedex/3/'},\n",
       "  {'name': 'hoenn', 'url': 'https://pokeapi.co/api/v2/pokedex/4/'},\n",
       "  {'name': 'original-sinnoh', 'url': 'https://pokeapi.co/api/v2/pokedex/5/'},\n",
       "  {'name': 'extended-sinnoh', 'url': 'https://pokeapi.co/api/v2/pokedex/6/'},\n",
       "  {'name': 'updated-johto', 'url': 'https://pokeapi.co/api/v2/pokedex/7/'},\n",
       "  {'name': 'original-unova', 'url': 'https://pokeapi.co/api/v2/pokedex/8/'},\n",
       "  {'name': 'updated-unova', 'url': 'https://pokeapi.co/api/v2/pokedex/9/'},\n",
       "  {'name': 'conquest-gallery', 'url': 'https://pokeapi.co/api/v2/pokedex/11/'},\n",
       "  {'name': 'kalos-central', 'url': 'https://pokeapi.co/api/v2/pokedex/12/'},\n",
       "  {'name': 'kalos-coastal', 'url': 'https://pokeapi.co/api/v2/pokedex/13/'},\n",
       "  {'name': 'kalos-mountain', 'url': 'https://pokeapi.co/api/v2/pokedex/14/'},\n",
       "  {'name': 'updated-hoenn', 'url': 'https://pokeapi.co/api/v2/pokedex/15/'},\n",
       "  {'name': 'original-alola', 'url': 'https://pokeapi.co/api/v2/pokedex/16/'},\n",
       "  {'name': 'original-melemele',\n",
       "   'url': 'https://pokeapi.co/api/v2/pokedex/17/'},\n",
       "  {'name': 'original-akala', 'url': 'https://pokeapi.co/api/v2/pokedex/18/'},\n",
       "  {'name': 'original-ulaula', 'url': 'https://pokeapi.co/api/v2/pokedex/19/'},\n",
       "  {'name': 'original-poni', 'url': 'https://pokeapi.co/api/v2/pokedex/20/'},\n",
       "  {'name': 'updated-alola', 'url': 'https://pokeapi.co/api/v2/pokedex/21/'}]}"
      ]
     },
     "execution_count": 68,
     "metadata": {},
     "output_type": "execute_result"
    }
   ],
   "source": [
    "#we will try to get all the pokemons from kanto and hoenn from the POKEAPI\n",
    "url='https://pokeapi.co/api/v2/pokedex'\n",
    "response  = requests.get(url)\n",
    "response.json()\n",
    "#segunda vez un poco más rápido ya que no se que hice y borre lo que había hecho antes"
   ]
  },
  {
   "cell_type": "markdown",
   "metadata": {},
   "source": [
    "## Reading the data\n",
    "\n",
    "In the next cell, use Python to obtain data from the API endpoint you chose in the previous step. Workflow:\n",
    "\n",
    "1. Import libraries.\n",
    "\n",
    "1. Define the initial API endpoint URL.\n",
    "\n",
    "1. Make request to obtain data of the 1st page. Flatten the data and store it in an empty object variable.\n",
    "\n",
    "1. Find out the total page count in the 1st page data.\n",
    "\n",
    "1. Use a FOR loop to make requests for the additional pages from 2 to page count. Append the data of each additional page to the flatterned data object.\n",
    "\n",
    "1. Print and review the data you obtained."
   ]
  },
  {
   "cell_type": "code",
   "execution_count": 94,
   "metadata": {},
   "outputs": [],
   "source": [
    "import requests \n",
    "import json\n",
    "import pandas as pd\n",
    "import numpy as np"
   ]
  },
  {
   "cell_type": "code",
   "execution_count": null,
   "metadata": {},
   "outputs": [],
   "source": [
    "def pokemon_list(pokedexindex):\n",
    "    url = f'https://pokeapi.co/api/v2/pokedex/{pokedexindex}'\n",
    "    response  = requests.get(url)\n",
    "    pokemon = []\n",
    "    for i in range(len(response.json()['pokemon_entries'])):\n",
    "        pokemon.append(response.json()['pokemon_entries'][i]['pokemon_species']['name'])\n",
    "    return pokemon"
   ]
  },
  {
   "cell_type": "code",
   "execution_count": 78,
   "metadata": {},
   "outputs": [
    {
     "data": {
      "text/plain": [
       "{'count': 24,\n",
       " 'next': 'https://pokeapi.co/api/v2/pokedex/?offset=20&limit=4',\n",
       " 'previous': None,\n",
       " 'results': [{'name': 'national',\n",
       "   'url': 'https://pokeapi.co/api/v2/pokedex/1/'},\n",
       "  {'name': 'kanto', 'url': 'https://pokeapi.co/api/v2/pokedex/2/'},\n",
       "  {'name': 'original-johto', 'url': 'https://pokeapi.co/api/v2/pokedex/3/'},\n",
       "  {'name': 'hoenn', 'url': 'https://pokeapi.co/api/v2/pokedex/4/'},\n",
       "  {'name': 'original-sinnoh', 'url': 'https://pokeapi.co/api/v2/pokedex/5/'},\n",
       "  {'name': 'extended-sinnoh', 'url': 'https://pokeapi.co/api/v2/pokedex/6/'},\n",
       "  {'name': 'updated-johto', 'url': 'https://pokeapi.co/api/v2/pokedex/7/'},\n",
       "  {'name': 'original-unova', 'url': 'https://pokeapi.co/api/v2/pokedex/8/'},\n",
       "  {'name': 'updated-unova', 'url': 'https://pokeapi.co/api/v2/pokedex/9/'},\n",
       "  {'name': 'conquest-gallery', 'url': 'https://pokeapi.co/api/v2/pokedex/11/'},\n",
       "  {'name': 'kalos-central', 'url': 'https://pokeapi.co/api/v2/pokedex/12/'},\n",
       "  {'name': 'kalos-coastal', 'url': 'https://pokeapi.co/api/v2/pokedex/13/'},\n",
       "  {'name': 'kalos-mountain', 'url': 'https://pokeapi.co/api/v2/pokedex/14/'},\n",
       "  {'name': 'updated-hoenn', 'url': 'https://pokeapi.co/api/v2/pokedex/15/'},\n",
       "  {'name': 'original-alola', 'url': 'https://pokeapi.co/api/v2/pokedex/16/'},\n",
       "  {'name': 'original-melemele',\n",
       "   'url': 'https://pokeapi.co/api/v2/pokedex/17/'},\n",
       "  {'name': 'original-akala', 'url': 'https://pokeapi.co/api/v2/pokedex/18/'},\n",
       "  {'name': 'original-ulaula', 'url': 'https://pokeapi.co/api/v2/pokedex/19/'},\n",
       "  {'name': 'original-poni', 'url': 'https://pokeapi.co/api/v2/pokedex/20/'},\n",
       "  {'name': 'updated-alola', 'url': 'https://pokeapi.co/api/v2/pokedex/21/'}]}"
      ]
     },
     "execution_count": 78,
     "metadata": {},
     "output_type": "execute_result"
    }
   ],
   "source": [
    "\n",
    "url = 'https://pokeapi.co/api/v2/pokedex/'\n",
    "response  = requests.get(url)\n",
    "response.json()"
   ]
  },
  {
   "cell_type": "code",
   "execution_count": 102,
   "metadata": {},
   "outputs": [],
   "source": [
    "#Kanto es 2, hoenn 4, sinnoh 6\n",
    "kanto_pokemon = pokemon_list(2)\n",
    "hoenn_pokemon = pokemon_list(4)\n",
    "sinnoh_pokemon = pokemon_list(6)\n",
    "d1 = pd.DataFrame(kanto_pokemon)\n",
    "d2 = pd.DataFrame(hoenn_pokemon)\n",
    "d3 = pd.DataFrame(sinnoh_pokemon)"
   ]
  },
  {
   "cell_type": "code",
   "execution_count": 103,
   "metadata": {},
   "outputs": [],
   "source": [
    "new = pd.concat([d1,d2,d3], axis=1) \n",
    "new.index = np.arange(1, len(new)+1)\n"
   ]
  },
  {
   "cell_type": "code",
   "execution_count": 106,
   "metadata": {},
   "outputs": [],
   "source": [
    "new.columns = ['Kanto', 'Hoenn','Sinnoh']"
   ]
  },
  {
   "cell_type": "code",
   "execution_count": 107,
   "metadata": {},
   "outputs": [
    {
     "data": {
      "text/html": [
       "<div>\n",
       "<style scoped>\n",
       "    .dataframe tbody tr th:only-of-type {\n",
       "        vertical-align: middle;\n",
       "    }\n",
       "\n",
       "    .dataframe tbody tr th {\n",
       "        vertical-align: top;\n",
       "    }\n",
       "\n",
       "    .dataframe thead th {\n",
       "        text-align: right;\n",
       "    }\n",
       "</style>\n",
       "<table border=\"1\" class=\"dataframe\">\n",
       "  <thead>\n",
       "    <tr style=\"text-align: right;\">\n",
       "      <th></th>\n",
       "      <th>Kanto</th>\n",
       "      <th>Hoenn</th>\n",
       "      <th>Sinnoh</th>\n",
       "    </tr>\n",
       "  </thead>\n",
       "  <tbody>\n",
       "    <tr>\n",
       "      <th>1</th>\n",
       "      <td>bulbasaur</td>\n",
       "      <td>treecko</td>\n",
       "      <td>turtwig</td>\n",
       "    </tr>\n",
       "    <tr>\n",
       "      <th>2</th>\n",
       "      <td>ivysaur</td>\n",
       "      <td>grovyle</td>\n",
       "      <td>grotle</td>\n",
       "    </tr>\n",
       "    <tr>\n",
       "      <th>3</th>\n",
       "      <td>venusaur</td>\n",
       "      <td>sceptile</td>\n",
       "      <td>torterra</td>\n",
       "    </tr>\n",
       "    <tr>\n",
       "      <th>4</th>\n",
       "      <td>charmander</td>\n",
       "      <td>torchic</td>\n",
       "      <td>chimchar</td>\n",
       "    </tr>\n",
       "    <tr>\n",
       "      <th>5</th>\n",
       "      <td>charmeleon</td>\n",
       "      <td>combusken</td>\n",
       "      <td>monferno</td>\n",
       "    </tr>\n",
       "    <tr>\n",
       "      <th>...</th>\n",
       "      <td>...</td>\n",
       "      <td>...</td>\n",
       "      <td>...</td>\n",
       "    </tr>\n",
       "    <tr>\n",
       "      <th>206</th>\n",
       "      <td>NaN</td>\n",
       "      <td>NaN</td>\n",
       "      <td>snorunt</td>\n",
       "    </tr>\n",
       "    <tr>\n",
       "      <th>207</th>\n",
       "      <td>NaN</td>\n",
       "      <td>NaN</td>\n",
       "      <td>glalie</td>\n",
       "    </tr>\n",
       "    <tr>\n",
       "      <th>208</th>\n",
       "      <td>NaN</td>\n",
       "      <td>NaN</td>\n",
       "      <td>froslass</td>\n",
       "    </tr>\n",
       "    <tr>\n",
       "      <th>209</th>\n",
       "      <td>NaN</td>\n",
       "      <td>NaN</td>\n",
       "      <td>absol</td>\n",
       "    </tr>\n",
       "    <tr>\n",
       "      <th>210</th>\n",
       "      <td>NaN</td>\n",
       "      <td>NaN</td>\n",
       "      <td>giratina</td>\n",
       "    </tr>\n",
       "  </tbody>\n",
       "</table>\n",
       "<p>210 rows × 3 columns</p>\n",
       "</div>"
      ],
      "text/plain": [
       "          Kanto      Hoenn    Sinnoh\n",
       "1     bulbasaur    treecko   turtwig\n",
       "2       ivysaur    grovyle    grotle\n",
       "3      venusaur   sceptile  torterra\n",
       "4    charmander    torchic  chimchar\n",
       "5    charmeleon  combusken  monferno\n",
       "..          ...        ...       ...\n",
       "206         NaN        NaN   snorunt\n",
       "207         NaN        NaN    glalie\n",
       "208         NaN        NaN  froslass\n",
       "209         NaN        NaN     absol\n",
       "210         NaN        NaN  giratina\n",
       "\n",
       "[210 rows x 3 columns]"
      ]
     },
     "execution_count": 107,
     "metadata": {},
     "output_type": "execute_result"
    }
   ],
   "source": [
    "new"
   ]
  },
  {
   "cell_type": "markdown",
   "metadata": {},
   "source": [
    "## Bonus\n",
    "\n",
    "Extract the following information from the data:\n",
    "\n",
    "* The trending brand.\n",
    "\n",
    "* The product(s) with the highest discount.\n",
    "\n",
    "* The sum of discounts of all goods (sum_discounted_prices divided by sum_original_prices)."
   ]
  },
  {
   "cell_type": "code",
   "execution_count": null,
   "metadata": {},
   "outputs": [],
   "source": [
    "# your code here"
   ]
  }
 ],
 "metadata": {
  "kernelspec": {
   "display_name": "Python 3",
   "language": "python",
   "name": "python3"
  },
  "language_info": {
   "codemirror_mode": {
    "name": "ipython",
    "version": 3
   },
   "file_extension": ".py",
   "mimetype": "text/x-python",
   "name": "python",
   "nbconvert_exporter": "python",
   "pygments_lexer": "ipython3",
   "version": "3.8.3"
  }
 },
 "nbformat": 4,
 "nbformat_minor": 2
}
