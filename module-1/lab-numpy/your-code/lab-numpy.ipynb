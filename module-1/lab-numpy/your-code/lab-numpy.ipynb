{
 "cells": [
  {
   "cell_type": "code",
   "execution_count": 1,
   "metadata": {},
   "outputs": [],
   "source": [
    "#1. Import the NUMPY package under the name np.\n",
    "import numpy as np"
   ]
  },
  {
   "cell_type": "code",
   "execution_count": 2,
   "metadata": {},
   "outputs": [
    {
     "data": {
      "text/plain": [
       "'1.18.5'"
      ]
     },
     "execution_count": 2,
     "metadata": {},
     "output_type": "execute_result"
    }
   ],
   "source": [
    "#2. Print the NUMPY version and the configuration.\n",
    "np.version.version"
   ]
  },
  {
   "cell_type": "code",
   "execution_count": 3,
   "metadata": {},
   "outputs": [],
   "source": [
    "#3. Generate a 2x3x5 3-dimensional array with random values. Assign the array to variable \"a\"\n",
    "# Challenge: there are at least three easy ways that use numpy to generate random arrays. How many ways can you find?\n",
    "\n",
    "a = np.random.rand(2,3,5)\n",
    "b = np.random.randn(2,3,5)\n",
    "c= np.random.random((2,3,5))"
   ]
  },
  {
   "cell_type": "code",
   "execution_count": 4,
   "metadata": {},
   "outputs": [
    {
     "name": "stdout",
     "output_type": "stream",
     "text": [
      "[[[0.69844279 0.69688006 0.58297364 0.04360507 0.24569185]\n",
      "  [0.64207982 0.45982848 0.54064419 0.90627485 0.02584606]\n",
      "  [0.6325976  0.27722996 0.40666216 0.92563858 0.36599275]]\n",
      "\n",
      " [[0.53305    0.05262579 0.11339115 0.48986541 0.03672562]\n",
      "  [0.27252252 0.52592337 0.53250007 0.91469857 0.29278659]\n",
      "  [0.17472088 0.44080236 0.21960309 0.54540777 0.25407242]]]\n"
     ]
    }
   ],
   "source": [
    "#4. Print a.\n",
    "print(a)"
   ]
  },
  {
   "cell_type": "code",
   "execution_count": 5,
   "metadata": {},
   "outputs": [],
   "source": [
    "#5. Create a 5x2x3 3-dimensional array with all values equaling 1.\n",
    "#Assign the array to variable \"b\"\n",
    "b = np.ones((5,2,3), dtype= int)"
   ]
  },
  {
   "cell_type": "code",
   "execution_count": 6,
   "metadata": {},
   "outputs": [
    {
     "name": "stdout",
     "output_type": "stream",
     "text": [
      "[[[1 1 1]\n",
      "  [1 1 1]]\n",
      "\n",
      " [[1 1 1]\n",
      "  [1 1 1]]\n",
      "\n",
      " [[1 1 1]\n",
      "  [1 1 1]]\n",
      "\n",
      " [[1 1 1]\n",
      "  [1 1 1]]\n",
      "\n",
      " [[1 1 1]\n",
      "  [1 1 1]]]\n"
     ]
    }
   ],
   "source": [
    "#6. Print b.\n",
    "print(b)"
   ]
  },
  {
   "cell_type": "code",
   "execution_count": 7,
   "metadata": {},
   "outputs": [
    {
     "name": "stdout",
     "output_type": "stream",
     "text": [
      "True\n",
      "False\n"
     ]
    }
   ],
   "source": [
    "#7. Do a and b have the same size? How do you prove that in Python code?\n",
    "print(a.size==b.size)\n",
    "#same \"size\" but not \"shape\" a is 2x3x5 and b is 5x2x3\n",
    "print(a.shape==b.shape)"
   ]
  },
  {
   "cell_type": "code",
   "execution_count": 8,
   "metadata": {},
   "outputs": [],
   "source": [
    "#8. Are you able to add a and b? Why or why not?\n",
    "#They have different shape"
   ]
  },
  {
   "cell_type": "code",
   "execution_count": 9,
   "metadata": {},
   "outputs": [
    {
     "name": "stdout",
     "output_type": "stream",
     "text": [
      "(2, 3, 5)\n"
     ]
    }
   ],
   "source": [
    "#9. Transpose b so that it has the same structure of a (i.e. become a 2x3x5 array). Assign the transposed array to varialbe \"c\".\n",
    "c = np.transpose(b, (1,2,0))\n",
    "print(c.shape)"
   ]
  },
  {
   "cell_type": "code",
   "execution_count": 84,
   "metadata": {},
   "outputs": [],
   "source": [
    "#10. Try to add a and c. Now it should work. Assign the sum to varialbe \"d\". But why does it work now?\n",
    "d = a+c\n"
   ]
  },
  {
   "cell_type": "code",
   "execution_count": 11,
   "metadata": {},
   "outputs": [
    {
     "name": "stdout",
     "output_type": "stream",
     "text": [
      "[[[0.69844279 0.69688006 0.58297364 0.04360507 0.24569185]\n",
      "  [0.64207982 0.45982848 0.54064419 0.90627485 0.02584606]\n",
      "  [0.6325976  0.27722996 0.40666216 0.92563858 0.36599275]]\n",
      "\n",
      " [[0.53305    0.05262579 0.11339115 0.48986541 0.03672562]\n",
      "  [0.27252252 0.52592337 0.53250007 0.91469857 0.29278659]\n",
      "  [0.17472088 0.44080236 0.21960309 0.54540777 0.25407242]]]\n",
      "---------------\n",
      "[[[1.69844279 1.69688006 1.58297364 1.04360507 1.24569185]\n",
      "  [1.64207982 1.45982848 1.54064419 1.90627485 1.02584606]\n",
      "  [1.6325976  1.27722996 1.40666216 1.92563858 1.36599275]]\n",
      "\n",
      " [[1.53305    1.05262579 1.11339115 1.48986541 1.03672562]\n",
      "  [1.27252252 1.52592337 1.53250007 1.91469857 1.29278659]\n",
      "  [1.17472088 1.44080236 1.21960309 1.54540777 1.25407242]]]\n"
     ]
    }
   ],
   "source": [
    "#11. Print a and d. Notice the difference and relation of the two array in terms of the values? Explain.\n",
    "print(a)\n",
    "print('---------------')\n",
    "print(d)\n",
    "#It's a one to one sum of each value of each matrix#12. Multiply a and c. Assign the result to e.\n",
    "\n"
   ]
  },
  {
   "cell_type": "code",
   "execution_count": 20,
   "metadata": {},
   "outputs": [
    {
     "name": "stdout",
     "output_type": "stream",
     "text": [
      "[[[0.69844279 0.69688006 0.58297364 0.04360507 0.24569185]\n",
      "  [0.64207982 0.45982848 0.54064419 0.90627485 0.02584606]\n",
      "  [0.6325976  0.27722996 0.40666216 0.92563858 0.36599275]]\n",
      "\n",
      " [[0.53305    0.05262579 0.11339115 0.48986541 0.03672562]\n",
      "  [0.27252252 0.52592337 0.53250007 0.91469857 0.29278659]\n",
      "  [0.17472088 0.44080236 0.21960309 0.54540777 0.25407242]]]\n",
      "------------\n",
      "[[[0.69844279 0.69688006 0.58297364 0.04360507 0.24569185]\n",
      "  [0.64207982 0.45982848 0.54064419 0.90627485 0.02584606]\n",
      "  [0.6325976  0.27722996 0.40666216 0.92563858 0.36599275]]\n",
      "\n",
      " [[0.53305    0.05262579 0.11339115 0.48986541 0.03672562]\n",
      "  [0.27252252 0.52592337 0.53250007 0.91469857 0.29278659]\n",
      "  [0.17472088 0.44080236 0.21960309 0.54540777 0.25407242]]]\n"
     ]
    }
   ],
   "source": [
    "#12. Multiply a and c. Assign the result to e.\n",
    "\n",
    "e = a*c\n",
    "print(e)\n",
    "print('------------')\n",
    "print(a)"
   ]
  },
  {
   "cell_type": "code",
   "execution_count": 18,
   "metadata": {},
   "outputs": [
    {
     "data": {
      "text/plain": [
       "array([[[ True,  True,  True,  True,  True],\n",
       "        [ True,  True,  True,  True,  True],\n",
       "        [ True,  True,  True,  True,  True]],\n",
       "\n",
       "       [[ True,  True,  True,  True,  True],\n",
       "        [ True,  True,  True,  True,  True],\n",
       "        [ True,  True,  True,  True,  True]]])"
      ]
     },
     "execution_count": 18,
     "metadata": {},
     "output_type": "execute_result"
    }
   ],
   "source": [
    "#13. Does e equal to a? Why or why not?\n",
    "a == e\n",
    "#it is the same one to one"
   ]
  },
  {
   "cell_type": "code",
   "execution_count": 85,
   "metadata": {},
   "outputs": [],
   "source": [
    "#14. Identify the max, min, and mean values in d. Assign those values to variables \"d_max\", \"d_min\", and \"d_mean\"\n",
    "d_max = np.max(d)\n",
    "d_min = np.min(d)\n",
    "d_mean = np.mean(d)"
   ]
  },
  {
   "cell_type": "code",
   "execution_count": 80,
   "metadata": {},
   "outputs": [],
   "source": [
    "#15. Now we want to label the values in d. First create an empty array \"f\" with the same shape (i.e. 2x3x5) as d using `np.empty`.\n",
    "\n",
    "f = np.empty((2,3,5))\n"
   ]
  },
  {
   "cell_type": "code",
   "execution_count": 102,
   "metadata": {},
   "outputs": [
    {
     "name": "stdout",
     "output_type": "stream",
     "text": [
      "[[[ 75.  75.  75.  25.  25.]\n",
      "  [ 75.  75.  75.  75.   0.]\n",
      "  [ 75.  25.  25. 100.  25.]]\n",
      "\n",
      " [[ 75.  25.  25.  75.  25.]\n",
      "  [ 25.  75.  75.  75.  25.]\n",
      "  [ 25.  75.  25.  75.  25.]]]\n"
     ]
    }
   ],
   "source": [
    "\n",
    "#16. Populate the values in f. For each value in d, if it's larger than d_min but smaller than d_mean, assign 25 to the corresponding value in f.\n",
    "#If a value in d is larger than d_mean but smaller than d_max, assign 75 to the corresponding value in f.\n",
    "#If a value equals to d_mean, assign 50 to the corresponding value in f.\n",
    "#Assign 0 to the corresponding value(s) in f for d_min in d.\n",
    "#Assign 100 to the corresponding value(s) in f for d_max in d.\n",
    "#In the end, f should have only the following values: 0, 25, 50, 75, and 100.\n",
    "#Note: you don't have to use Numpy in this question.\n",
    "\n",
    "f = np.copy(d)\n",
    "f[f==d_min]= 0\n",
    "f[(f>d_min) & (f<d_mean)]= 25\n",
    "f[f==d_mean]=50\n",
    "f[(f>d_mean)& (f<d_max)]= 75\n",
    "f[f==d_max]=100\n",
    "print(f)\n",
    "\n",
    "\n"
   ]
  },
  {
   "cell_type": "code",
   "execution_count": 98,
   "metadata": {},
   "outputs": [
    {
     "name": "stdout",
     "output_type": "stream",
     "text": [
      "[[[1.69844279 1.69688006 1.58297364 1.04360507 1.24569185]\n",
      "  [1.64207982 1.45982848 1.54064419 1.90627485 1.02584606]\n",
      "  [1.6325976  1.27722996 1.40666216 1.92563858 1.36599275]]\n",
      "\n",
      " [[1.53305    1.05262579 1.11339115 1.48986541 1.03672562]\n",
      "  [1.27252252 1.52592337 1.53250007 1.91469857 1.29278659]\n",
      "  [1.17472088 1.44080236 1.21960309 1.54540777 1.25407242]]]\n",
      "[[[ 75.  75.  75.  25.  25.]\n",
      "  [ 75.  75.  75.  75.   0.]\n",
      "  [ 75.  25.  25. 100.  25.]]\n",
      "\n",
      " [[ 75.  25.  25.  75.  25.]\n",
      "  [ 25.  75.  75.  75.  25.]\n",
      "  [ 25.  75.  25.  75.  25.]]]\n"
     ]
    }
   ],
   "source": [
    "#\"\"\"\n",
    "#17. Print d and f. Do you have your expected f?\n",
    "\n",
    "print(d)\n",
    "print(f)\n"
   ]
  },
  {
   "cell_type": "code",
   "execution_count": 100,
   "metadata": {},
   "outputs": [
    {
     "ename": "ValueError",
     "evalue": "could not convert string to float: 'A'",
     "output_type": "error",
     "traceback": [
      "\u001b[0;31m---------------------------------------------------------------------------\u001b[0m",
      "\u001b[0;31mValueError\u001b[0m                                Traceback (most recent call last)",
      "\u001b[0;32m<ipython-input-100-a36fc22ae671>\u001b[0m in \u001b[0;36m<module>\u001b[0;34m\u001b[0m\n\u001b[1;32m      2\u001b[0m \u001b[0;31m#(\"A\", \"B\", \"C\", \"D\", and \"E\") to label the array elements?\u001b[0m\u001b[0;34m\u001b[0m\u001b[0;34m\u001b[0m\u001b[0;34m\u001b[0m\u001b[0m\n\u001b[1;32m      3\u001b[0m \u001b[0;34m\u001b[0m\u001b[0m\n\u001b[0;32m----> 4\u001b[0;31m \u001b[0mf\u001b[0m\u001b[0;34m[\u001b[0m\u001b[0mf\u001b[0m\u001b[0;34m==\u001b[0m\u001b[0;36m0.\u001b[0m\u001b[0;34m]\u001b[0m\u001b[0;34m=\u001b[0m\u001b[0;34m'A'\u001b[0m\u001b[0;34m\u001b[0m\u001b[0;34m\u001b[0m\u001b[0m\n\u001b[0m\u001b[1;32m      5\u001b[0m \u001b[0mf\u001b[0m\u001b[0;34m[\u001b[0m\u001b[0mf\u001b[0m\u001b[0;34m==\u001b[0m\u001b[0;36m25.\u001b[0m\u001b[0;34m]\u001b[0m\u001b[0;34m=\u001b[0m\u001b[0;34m'B'\u001b[0m\u001b[0;34m\u001b[0m\u001b[0;34m\u001b[0m\u001b[0m\n\u001b[1;32m      6\u001b[0m \u001b[0mf\u001b[0m\u001b[0;34m[\u001b[0m\u001b[0mf\u001b[0m\u001b[0;34m==\u001b[0m\u001b[0;36m50.\u001b[0m\u001b[0;34m]\u001b[0m\u001b[0;34m=\u001b[0m\u001b[0;34m'C'\u001b[0m\u001b[0;34m\u001b[0m\u001b[0;34m\u001b[0m\u001b[0m\n",
      "\u001b[0;31mValueError\u001b[0m: could not convert string to float: 'A'"
     ]
    }
   ],
   "source": [
    "#18. Bonus question: instead of using numbers (i.e. 0, 25, 50, 75, and 100), how to use string values\n",
    "#(\"A\", \"B\", \"C\", \"D\", and \"E\") to label the array elements?\n",
    "\n",
    "f[f==0.]='A'\n",
    "f[f==25.]='B'\n",
    "f[f==50.]='C'\n",
    "f[f==75.]='D'\n",
    "f[f==100.]='E'\n",
    "\n",
    "\n",
    "\n"
   ]
  },
  {
   "cell_type": "code",
   "execution_count": null,
   "metadata": {},
   "outputs": [],
   "source": []
  }
 ],
 "metadata": {
  "kernelspec": {
   "display_name": "Python 3",
   "language": "python",
   "name": "python3"
  },
  "language_info": {
   "codemirror_mode": {
    "name": "ipython",
    "version": 3
   },
   "file_extension": ".py",
   "mimetype": "text/x-python",
   "name": "python",
   "nbconvert_exporter": "python",
   "pygments_lexer": "ipython3",
   "version": "3.8.3"
  }
 },
 "nbformat": 4,
 "nbformat_minor": 4
}
