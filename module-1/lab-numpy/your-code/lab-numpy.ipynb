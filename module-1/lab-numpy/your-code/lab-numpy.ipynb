{
 "cells": [
  {
   "cell_type": "code",
   "execution_count": 1,
   "metadata": {},
   "outputs": [],
   "source": [
    "#1. Import the NUMPY package under the name np.\n",
    "import numpy as np"
   ]
  },
  {
   "cell_type": "code",
   "execution_count": 2,
   "metadata": {},
   "outputs": [
    {
     "data": {
      "text/plain": [
       "'1.18.5'"
      ]
     },
     "execution_count": 2,
     "metadata": {},
     "output_type": "execute_result"
    }
   ],
   "source": [
    "#2. Print the NUMPY version and the configuration.\n",
    "np.version.version"
   ]
  },
  {
   "cell_type": "code",
   "execution_count": 3,
   "metadata": {},
   "outputs": [],
   "source": [
    "#3. Generate a 2x3x5 3-dimensional array with random values. Assign the array to variable \"a\"\n",
    "# Challenge: there are at least three easy ways that use numpy to generate random arrays. How many ways can you find?\n",
    "\n",
    "a = np.random.rand(2,3,5)\n",
    "b = np.random.randn(2,3,5)\n",
    "c= np.random.random((2,3,5))"
   ]
  },
  {
   "cell_type": "code",
   "execution_count": 4,
   "metadata": {},
   "outputs": [
    {
     "name": "stdout",
     "output_type": "stream",
     "text": [
      "[[[0.16316074 0.75047108 0.14130161 0.70955742 0.85998858]\n",
      "  [0.93324297 0.18912228 0.1962586  0.0515107  0.70624949]\n",
      "  [0.02135796 0.10704109 0.54889578 0.73649399 0.98778808]]\n",
      "\n",
      " [[0.00635736 0.35127666 0.01824112 0.28142591 0.85660664]\n",
      "  [0.54823925 0.26497566 0.52960075 0.57961704 0.44223704]\n",
      "  [0.78766805 0.15292788 0.7055626  0.28157866 0.89320345]]]\n"
     ]
    }
   ],
   "source": [
    "#4. Print a.\n",
    "print(a)"
   ]
  },
  {
   "cell_type": "code",
   "execution_count": 5,
   "metadata": {},
   "outputs": [],
   "source": [
    "#5. Create a 5x2x3 3-dimensional array with all values equaling 1.\n",
    "#Assign the array to variable \"b\"\n",
    "b = np.ones((5,2,3), dtype= int)"
   ]
  },
  {
   "cell_type": "code",
   "execution_count": 6,
   "metadata": {},
   "outputs": [
    {
     "name": "stdout",
     "output_type": "stream",
     "text": [
      "[[[1 1 1]\n",
      "  [1 1 1]]\n",
      "\n",
      " [[1 1 1]\n",
      "  [1 1 1]]\n",
      "\n",
      " [[1 1 1]\n",
      "  [1 1 1]]\n",
      "\n",
      " [[1 1 1]\n",
      "  [1 1 1]]\n",
      "\n",
      " [[1 1 1]\n",
      "  [1 1 1]]]\n"
     ]
    }
   ],
   "source": [
    "#6. Print b.\n",
    "print(b)"
   ]
  },
  {
   "cell_type": "code",
   "execution_count": 7,
   "metadata": {},
   "outputs": [
    {
     "name": "stdout",
     "output_type": "stream",
     "text": [
      "True\n",
      "False\n"
     ]
    }
   ],
   "source": [
    "#7. Do a and b have the same size? How do you prove that in Python code?\n",
    "print(a.size==b.size)\n",
    "#same \"size\" but not \"shape\" a is 2x3x5 and b is 5x2x3\n",
    "print(a.shape==b.shape)"
   ]
  },
  {
   "cell_type": "code",
   "execution_count": 8,
   "metadata": {},
   "outputs": [],
   "source": [
    "#8. Are you able to add a and b? Why or why not?\n",
    "#They have different shape"
   ]
  },
  {
   "cell_type": "code",
   "execution_count": 9,
   "metadata": {},
   "outputs": [
    {
     "name": "stdout",
     "output_type": "stream",
     "text": [
      "(2, 3, 5)\n"
     ]
    }
   ],
   "source": [
    "#9. Transpose b so that it has the same structure of a (i.e. become a 2x3x5 array). Assign the transposed array to varialbe \"c\".\n",
    "c = np.transpose(b, (1,2,0))\n",
    "print(c.shape)"
   ]
  },
  {
   "cell_type": "code",
   "execution_count": 10,
   "metadata": {},
   "outputs": [],
   "source": [
    "#10. Try to add a and c. Now it should work. Assign the sum to varialbe \"d\". But why does it work now?\n",
    "d = a+c\n"
   ]
  },
  {
   "cell_type": "code",
   "execution_count": 11,
   "metadata": {},
   "outputs": [
    {
     "name": "stdout",
     "output_type": "stream",
     "text": [
      "[[[0.16316074 0.75047108 0.14130161 0.70955742 0.85998858]\n",
      "  [0.93324297 0.18912228 0.1962586  0.0515107  0.70624949]\n",
      "  [0.02135796 0.10704109 0.54889578 0.73649399 0.98778808]]\n",
      "\n",
      " [[0.00635736 0.35127666 0.01824112 0.28142591 0.85660664]\n",
      "  [0.54823925 0.26497566 0.52960075 0.57961704 0.44223704]\n",
      "  [0.78766805 0.15292788 0.7055626  0.28157866 0.89320345]]]\n",
      "---------------\n",
      "[[[1.16316074 1.75047108 1.14130161 1.70955742 1.85998858]\n",
      "  [1.93324297 1.18912228 1.1962586  1.0515107  1.70624949]\n",
      "  [1.02135796 1.10704109 1.54889578 1.73649399 1.98778808]]\n",
      "\n",
      " [[1.00635736 1.35127666 1.01824112 1.28142591 1.85660664]\n",
      "  [1.54823925 1.26497566 1.52960075 1.57961704 1.44223704]\n",
      "  [1.78766805 1.15292788 1.7055626  1.28157866 1.89320345]]]\n"
     ]
    }
   ],
   "source": [
    "#11. Print a and d. Notice the difference and relation of the two array in terms of the values? Explain.\n",
    "print(a)\n",
    "print('---------------')\n",
    "print(d)\n",
    "#It's a one to one sum of each value of each matrix#12. Multiply a and c. Assign the result to e.\n",
    "\n"
   ]
  },
  {
   "cell_type": "code",
   "execution_count": 12,
   "metadata": {},
   "outputs": [
    {
     "name": "stdout",
     "output_type": "stream",
     "text": [
      "[[[0.16316074 0.75047108 0.14130161 0.70955742 0.85998858]\n",
      "  [0.93324297 0.18912228 0.1962586  0.0515107  0.70624949]\n",
      "  [0.02135796 0.10704109 0.54889578 0.73649399 0.98778808]]\n",
      "\n",
      " [[0.00635736 0.35127666 0.01824112 0.28142591 0.85660664]\n",
      "  [0.54823925 0.26497566 0.52960075 0.57961704 0.44223704]\n",
      "  [0.78766805 0.15292788 0.7055626  0.28157866 0.89320345]]]\n",
      "------------\n",
      "[[[0.16316074 0.75047108 0.14130161 0.70955742 0.85998858]\n",
      "  [0.93324297 0.18912228 0.1962586  0.0515107  0.70624949]\n",
      "  [0.02135796 0.10704109 0.54889578 0.73649399 0.98778808]]\n",
      "\n",
      " [[0.00635736 0.35127666 0.01824112 0.28142591 0.85660664]\n",
      "  [0.54823925 0.26497566 0.52960075 0.57961704 0.44223704]\n",
      "  [0.78766805 0.15292788 0.7055626  0.28157866 0.89320345]]]\n"
     ]
    }
   ],
   "source": [
    "#12. Multiply a and c. Assign the result to e.\n",
    "\n",
    "e = a*c\n",
    "print(e)\n",
    "print('------------')\n",
    "print(a)"
   ]
  },
  {
   "cell_type": "code",
   "execution_count": 13,
   "metadata": {},
   "outputs": [
    {
     "data": {
      "text/plain": [
       "array([[[ True,  True,  True,  True,  True],\n",
       "        [ True,  True,  True,  True,  True],\n",
       "        [ True,  True,  True,  True,  True]],\n",
       "\n",
       "       [[ True,  True,  True,  True,  True],\n",
       "        [ True,  True,  True,  True,  True],\n",
       "        [ True,  True,  True,  True,  True]]])"
      ]
     },
     "execution_count": 13,
     "metadata": {},
     "output_type": "execute_result"
    }
   ],
   "source": [
    "#13. Does e equal to a? Why or why not?\n",
    "a == e\n",
    "#it is the same one to one"
   ]
  },
  {
   "cell_type": "code",
   "execution_count": 14,
   "metadata": {},
   "outputs": [],
   "source": [
    "#14. Identify the max, min, and mean values in d. Assign those values to variables \"d_max\", \"d_min\", and \"d_mean\"\n",
    "d_max = np.max(d)\n",
    "d_min = np.min(d)\n",
    "d_mean = np.mean(d)"
   ]
  },
  {
   "cell_type": "code",
   "execution_count": 21,
   "metadata": {},
   "outputs": [],
   "source": [
    "#15. Now we want to label the values in d. First create an empty array \"f\" with the same shape (i.e. 2x3x5) as d using `np.empty`.\n",
    "\n",
    "f = np.empty((2,3,5))\n",
    "f1= np.empty((2,3,5))"
   ]
  },
  {
   "cell_type": "code",
   "execution_count": 22,
   "metadata": {},
   "outputs": [
    {
     "name": "stdout",
     "output_type": "stream",
     "text": [
      "[[[ 25.  75.  25.  75.  75.]\n",
      "  [ 75.  25.  25.  25.  75.]\n",
      "  [ 25.  25.  75.  75. 100.]]\n",
      "\n",
      " [[  0.  25.  25.  25.  75.]\n",
      "  [ 75.  25.  75.  75.  25.]\n",
      "  [ 75.  25.  75.  25.  75.]]]\n"
     ]
    }
   ],
   "source": [
    "\n",
    "#16. Populate the values in f. For each value in d, if it's larger than d_min but smaller than d_mean, assign 25 to the corresponding value in f.\n",
    "#If a value in d is larger than d_mean but smaller than d_max, assign 75 to the corresponding value in f.\n",
    "#If a value equals to d_mean, assign 50 to the corresponding value in f.\n",
    "#Assign 0 to the corresponding value(s) in f for d_min in d.\n",
    "#Assign 100 to the corresponding value(s) in f for d_max in d.\n",
    "#In the end, f should have only the following values: 0, 25, 50, 75, and 100.\n",
    "#Note: you don't have to use Numpy in this question.\n",
    "\n",
    "f = np.copy(d)\n",
    "f[f==d_min]= 0\n",
    "f[(f>d_min) & (f<d_mean)]= 25\n",
    "f[f==d_mean]=50\n",
    "f[(f>d_mean)& (f<d_max)]= 75\n",
    "f[f==d_max]=100\n",
    "print(f)\n",
    "\n",
    "\n",
    "\n"
   ]
  },
  {
   "cell_type": "code",
   "execution_count": 26,
   "metadata": {},
   "outputs": [
    {
     "data": {
      "text/plain": [
       "array([[[ 25.,  75.,  25.,  75.,  75.],\n",
       "        [ 75.,  25.,  25.,  25.,  75.],\n",
       "        [ 25.,  25.,  75.,  75., 100.]],\n",
       "\n",
       "       [[  0.,  25.,  25.,  25.,  75.],\n",
       "        [ 75.,  25.,  75.,  75.,  25.],\n",
       "        [ 75.,  25.,  75.,  25.,  75.]]])"
      ]
     },
     "execution_count": 26,
     "metadata": {},
     "output_type": "execute_result"
    }
   ],
   "source": [
    "for i in range(d.size):\n",
    "    if d.item(i) >d_mean and d.item(i)<d_max:\n",
    "        f1.itemset(i,75)\n",
    "    elif d.item(i) <d_mean and d.item(i)>d_min:\n",
    "        f1.itemset(i,25)\n",
    "    elif d.item(i)== d_max:\n",
    "        f1.itemset(i,100)\n",
    "    elif d.item(i)== d_mean:\n",
    "        f1.itemset(i,50)\n",
    "    elif d.item(i)== d_min:\n",
    "        f1.itemset(i,0)\n",
    "f1\n"
   ]
  },
  {
   "cell_type": "code",
   "execution_count": 18,
   "metadata": {},
   "outputs": [
    {
     "name": "stdout",
     "output_type": "stream",
     "text": [
      "[[[1.16316074 1.75047108 1.14130161 1.70955742 1.85998858]\n",
      "  [1.93324297 1.18912228 1.1962586  1.0515107  1.70624949]\n",
      "  [1.02135796 1.10704109 1.54889578 1.73649399 1.98778808]]\n",
      "\n",
      " [[1.00635736 1.35127666 1.01824112 1.28142591 1.85660664]\n",
      "  [1.54823925 1.26497566 1.52960075 1.57961704 1.44223704]\n",
      "  [1.78766805 1.15292788 1.7055626  1.28157866 1.89320345]]]\n",
      "[[[ 25.  75.  25.  75.  75.]\n",
      "  [ 75.  25.  25.  25.  75.]\n",
      "  [ 25.  25.  75.  75. 100.]]\n",
      "\n",
      " [[  0.  25.  25.  25.  75.]\n",
      "  [ 75.  25.  75.  75.  25.]\n",
      "  [ 75.  25.  75.  25.  75.]]]\n"
     ]
    }
   ],
   "source": [
    "#\"\"\"\n",
    "#17. Print d and f. Do you have your expected f?\n",
    "\n",
    "print(d)\n",
    "print(f)\n"
   ]
  },
  {
   "cell_type": "code",
   "execution_count": 30,
   "metadata": {},
   "outputs": [
    {
     "data": {
      "text/plain": [
       "chararray([[[b'B', b'D', b'B', b'D', b'D'],\n",
       "            [b'D', b'B', b'B', b'B', b'D'],\n",
       "            [b'B', b'B', b'D', b'D', b'E']],\n",
       "\n",
       "           [[b'A', b'B', b'B', b'B', b'D'],\n",
       "            [b'D', b'B', b'D', b'D', b'B'],\n",
       "            [b'D', b'B', b'D', b'B', b'D']]], dtype='|S1')"
      ]
     },
     "execution_count": 30,
     "metadata": {},
     "output_type": "execute_result"
    }
   ],
   "source": [
    "#18. Bonus question: instead of using numbers (i.e. 0, 25, 50, 75, and 100), how to use string values\n",
    "#(\"A\", \"B\", \"C\", \"D\", and \"E\") to label the array elements?\n",
    "\n",
    "fa = np.chararray((2,3,5))\n",
    "\n",
    "\n",
    "for i in range(d.size):\n",
    "    if d.item(i) >d_mean and d.item(i)<d_max:\n",
    "        fa.itemset(i,\"D\")\n",
    "    elif d.item(i) <d_mean and d.item(i)>d_min:\n",
    "        fa.itemset(i,'B')\n",
    "    elif d.item(i)== d_max:\n",
    "        fa.itemset(i,'E')\n",
    "    elif d.item(i)== d_mean:\n",
    "        fa.itemset(i,'C')\n",
    "    elif d.item(i)== d_min:\n",
    "        fa.itemset(i,'A')\n",
    "fa\n"
   ]
  },
  {
   "cell_type": "code",
   "execution_count": null,
   "metadata": {},
   "outputs": [],
   "source": []
  }
 ],
 "metadata": {
  "kernelspec": {
   "display_name": "Python 3",
   "language": "python",
   "name": "python3"
  },
  "language_info": {
   "codemirror_mode": {
    "name": "ipython",
    "version": 3
   },
   "file_extension": ".py",
   "mimetype": "text/x-python",
   "name": "python",
   "nbconvert_exporter": "python",
   "pygments_lexer": "ipython3",
   "version": "3.8.3"
  }
 },
 "nbformat": 4,
 "nbformat_minor": 4
}
