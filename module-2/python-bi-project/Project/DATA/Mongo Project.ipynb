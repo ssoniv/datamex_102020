{
 "cells": [
  {
   "cell_type": "markdown",
   "metadata": {},
   "source": [
    "# Mongo Project"
   ]
  },
  {
   "cell_type": "markdown",
   "metadata": {},
   "source": [
    "First we will load pymongo and the companies database"
   ]
  },
  {
   "cell_type": "code",
   "execution_count": 1,
   "metadata": {},
   "outputs": [],
   "source": [
    "from pymongo import MongoClient\n",
    "import pandas as pd\n",
    "import seaborn as sns\n",
    "client=MongoClient()\n",
    "db=client.companies"
   ]
  },
  {
   "cell_type": "markdown",
   "metadata": {},
   "source": [
    "After observing the database and working with it in the lab. We will look at which category is the least 'overcrowded'"
   ]
  },
  {
   "cell_type": "code",
   "execution_count": 2,
   "metadata": {},
   "outputs": [
    {
     "data": {
      "text/html": [
       "<div>\n",
       "<style scoped>\n",
       "    .dataframe tbody tr th:only-of-type {\n",
       "        vertical-align: middle;\n",
       "    }\n",
       "\n",
       "    .dataframe tbody tr th {\n",
       "        vertical-align: top;\n",
       "    }\n",
       "\n",
       "    .dataframe thead th {\n",
       "        text-align: right;\n",
       "    }\n",
       "</style>\n",
       "<table border=\"1\" class=\"dataframe\">\n",
       "  <thead>\n",
       "    <tr style=\"text-align: right;\">\n",
       "      <th></th>\n",
       "      <th>name</th>\n",
       "      <th>category_code</th>\n",
       "    </tr>\n",
       "  </thead>\n",
       "  <tbody>\n",
       "    <tr>\n",
       "      <th>0</th>\n",
       "      <td>AdventNet</td>\n",
       "      <td>enterprise</td>\n",
       "    </tr>\n",
       "    <tr>\n",
       "      <th>1</th>\n",
       "      <td>Omnidrive</td>\n",
       "      <td>network_hosting</td>\n",
       "    </tr>\n",
       "    <tr>\n",
       "      <th>2</th>\n",
       "      <td>Zoho</td>\n",
       "      <td>software</td>\n",
       "    </tr>\n",
       "    <tr>\n",
       "      <th>3</th>\n",
       "      <td>Wetpaint</td>\n",
       "      <td>web</td>\n",
       "    </tr>\n",
       "    <tr>\n",
       "      <th>4</th>\n",
       "      <td>Postini</td>\n",
       "      <td>web</td>\n",
       "    </tr>\n",
       "  </tbody>\n",
       "</table>\n",
       "</div>"
      ],
      "text/plain": [
       "        name    category_code\n",
       "0  AdventNet       enterprise\n",
       "1  Omnidrive  network_hosting\n",
       "2       Zoho         software\n",
       "3   Wetpaint              web\n",
       "4    Postini              web"
      ]
     },
     "execution_count": 2,
     "metadata": {},
     "output_type": "execute_result"
    }
   ],
   "source": [
    "category = list(db.companies.find({},{'_id':0,'name':1,'category_code':1}))\n",
    "category = pd.DataFrame(category)\n",
    "category.head()"
   ]
  },
  {
   "cell_type": "markdown",
   "metadata": {},
   "source": [
    "After getting our query into a DataFrame we will plot our ocurrences."
   ]
  },
  {
   "cell_type": "code",
   "execution_count": 3,
   "metadata": {},
   "outputs": [
    {
     "name": "stdout",
     "output_type": "stream",
     "text": [
      "web                 3787\n",
      "software            2736\n",
      "games_video         1083\n",
      "mobile              1018\n",
      "other                986\n",
      "advertising          928\n",
      "enterprise           742\n",
      "ecommerce            688\n",
      "consulting           637\n",
      "network_hosting      626\n",
      "public_relations     533\n",
      "search               394\n",
      "biotech              373\n",
      "hardware             368\n",
      "cleantech            305\n",
      "semiconductor        167\n",
      "security             156\n",
      "analytics             66\n",
      "finance               49\n",
      "social                49\n",
      "news                  48\n",
      "education             36\n",
      "music                 33\n",
      "messaging             30\n",
      "legal                 25\n",
      "medical               25\n",
      "travel                25\n",
      "health                23\n",
      "photo_video           23\n",
      "manufacturing         19\n",
      "sports                13\n",
      "fashion               10\n",
      "real_estate           10\n",
      "automotive             9\n",
      "hospitality            8\n",
      "transportation         7\n",
      "nanotech               5\n",
      "design                 4\n",
      "nonprofit              4\n",
      "local                  1\n",
      "government             1\n",
      "Name: category_code, dtype: int64\n"
     ]
    },
    {
     "data": {
      "image/png": "[encoded data removed]",
      "text/plain": [
       "<Figure size 432x288 with 1 Axes>"
      ]
     },
     "metadata": {
      "needs_background": "light"
     },
     "output_type": "display_data"
    }
   ],
   "source": [
    "print(category.category_code.value_counts())\n",
    "sns.countplot(x=\"category_code\",data=category);"
   ]
  },
  {
   "cell_type": "markdown",
   "metadata": {},
   "source": [
    "Even though web and software are very profitable, there are too many companies in those categories. We will try to compare profit in each sector."
   ]
  },
  {
   "cell_type": "code",
   "execution_count": 4,
   "metadata": {},
   "outputs": [
    {
     "data": {
      "image/png": "[encoded data removed]",
      "text/plain": [
       "<Figure size 432x288 with 1 Axes>"
      ]
     },
     "metadata": {
      "needs_background": "light"
     },
     "output_type": "display_data"
    }
   ],
   "source": [
    "valuation = db.companies.find({'ipo.valuation_amount':{'$ne' : None}},{'_id':0,'category_code':1,'name':1,'ipo.valuation_amount':1})\n",
    "valuation= pd.DataFrame(valuation)\n",
    "for i in range(61):\n",
    "    valuation.ipo[i] = int(valuation.ipo[i]['valuation_amount'])\n",
    "new = valuation.groupby('category_code').agg({'ipo':['sum','count']})['ipo']\n",
    "average = new['sum']/new['count']\n",
    "average.plot.bar();"
   ]
  },
  {
   "cell_type": "markdown",
   "metadata": {},
   "source": [
    "We can see that social and ecommerce have bigger valuations on average. If we take into account both graphs, Social is not that over populated and has a high value. But it's a really competitive market. Tech companies are almost overvalued so they can sell stocks in the market, normally they are valued 3x revenue or at other price if they are not earning money yet."
   ]
  },
  {
   "cell_type": "markdown",
   "metadata": {},
   "source": [
    "Let's check how many of these companies have deadpooled, this maybe can tell us where the investments are not going. Start ups need cash flow and they need to raise funds to become big fast."
   ]
  },
  {
   "cell_type": "markdown",
   "metadata": {},
   "source": [
    "It seems that most of them seem to get enough funds. Also a good idea to look at Deadpooled companies and check why they \"dried\". Seems like tech companies are less likely to succeed in the long run. Also for these types of companies they need a lot of funding to succeed."
   ]
  },
  {
   "cell_type": "code",
   "execution_count": 5,
   "metadata": {},
   "outputs": [
    {
     "data": {
      "text/plain": [
       "$1M       93\n",
       "$10M      90\n",
       "$5M       84\n",
       "$2M       79\n",
       "$500k     62\n",
       "          ..\n",
       "$2.93M     1\n",
       "$38.8M     1\n",
       "€41M       1\n",
       "€424k      1\n",
       "$520M      1\n",
       "Name: total_money_raised, Length: 1477, dtype: int64"
      ]
     },
     "execution_count": 5,
     "metadata": {},
     "output_type": "execute_result"
    }
   ],
   "source": [
    "funds = list(db.companies.find({},{'_id':0,'category_code':1,'total_money_raised':1}))\n",
    "funds = pd.DataFrame(funds)\n",
    "#eliminating $0 since we don't knwo if it means 0 funds or not specified\n",
    "funds=funds[~(funds['total_money_raised']=='$0')]\n",
    "funds.total_money_raised.value_counts()"
   ]
  },
  {
   "cell_type": "markdown",
   "metadata": {},
   "source": [
    "After checking all of the things above, success rate, founding money, and market. We are going to pick an e-commerce business."
   ]
  },
  {
   "cell_type": "code",
   "execution_count": 6,
   "metadata": {},
   "outputs": [
    {
     "data": {
      "text/html": [
       "<div>\n",
       "<style scoped>\n",
       "    .dataframe tbody tr th:only-of-type {\n",
       "        vertical-align: middle;\n",
       "    }\n",
       "\n",
       "    .dataframe tbody tr th {\n",
       "        vertical-align: top;\n",
       "    }\n",
       "\n",
       "    .dataframe thead th {\n",
       "        text-align: right;\n",
       "    }\n",
       "</style>\n",
       "<table border=\"1\" class=\"dataframe\">\n",
       "  <thead>\n",
       "    <tr style=\"text-align: right;\">\n",
       "      <th></th>\n",
       "      <th>name</th>\n",
       "    </tr>\n",
       "  </thead>\n",
       "  <tbody>\n",
       "    <tr>\n",
       "      <th>0</th>\n",
       "      <td>Wize</td>\n",
       "    </tr>\n",
       "    <tr>\n",
       "      <th>1</th>\n",
       "      <td>Zlio</td>\n",
       "    </tr>\n",
       "    <tr>\n",
       "      <th>2</th>\n",
       "      <td>TheFind</td>\n",
       "    </tr>\n",
       "    <tr>\n",
       "      <th>3</th>\n",
       "      <td>Zazzle</td>\n",
       "    </tr>\n",
       "    <tr>\n",
       "      <th>4</th>\n",
       "      <td>Kaboodle</td>\n",
       "    </tr>\n",
       "    <tr>\n",
       "      <th>...</th>\n",
       "      <td>...</td>\n",
       "    </tr>\n",
       "    <tr>\n",
       "      <th>683</th>\n",
       "      <td>Top Rated Website Designers</td>\n",
       "    </tr>\n",
       "    <tr>\n",
       "      <th>684</th>\n",
       "      <td>EscapeHomes</td>\n",
       "    </tr>\n",
       "    <tr>\n",
       "      <th>685</th>\n",
       "      <td>Lift Media</td>\n",
       "    </tr>\n",
       "    <tr>\n",
       "      <th>686</th>\n",
       "      <td>Nokaut</td>\n",
       "    </tr>\n",
       "    <tr>\n",
       "      <th>687</th>\n",
       "      <td>Kicker Films</td>\n",
       "    </tr>\n",
       "  </tbody>\n",
       "</table>\n",
       "<p>688 rows × 1 columns</p>\n",
       "</div>"
      ],
      "text/plain": [
       "                            name\n",
       "0                           Wize\n",
       "1                           Zlio\n",
       "2                        TheFind\n",
       "3                         Zazzle\n",
       "4                       Kaboodle\n",
       "..                           ...\n",
       "683  Top Rated Website Designers\n",
       "684                  EscapeHomes\n",
       "685                   Lift Media\n",
       "686                       Nokaut\n",
       "687                 Kicker Films\n",
       "\n",
       "[688 rows x 1 columns]"
      ]
     },
     "execution_count": 6,
     "metadata": {},
     "output_type": "execute_result"
    }
   ],
   "source": [
    "ecommerce = list(db.companies.find({'category_code':'ecommerce'},{'_id':0,'name':1}))\n",
    "ecommerce = pd.DataFrame(ecommerce)\n",
    "ecommerce"
   ]
  },
  {
   "cell_type": "markdown",
   "metadata": {},
   "source": [
    "The advantage of an ecommerce is that location of the offices is not that important, but what is important is a storage location/distribution center near all the major delivery companies.\n",
    "But where are these companies located?\n"
   ]
  },
  {
   "cell_type": "code",
   "execution_count": 7,
   "metadata": {},
   "outputs": [
    {
     "name": "stderr",
     "output_type": "stream",
     "text": [
      "<ipython-input-7-9fceef9002e9>:3: FutureWarning: pandas.io.json.json_normalize is deprecated, use pandas.json_normalize instead\n",
      "  state= json_normalize(state,'offices',['name'])\n"
     ]
    },
    {
     "data": {
      "text/html": [
       "<div>\n",
       "<style scoped>\n",
       "    .dataframe tbody tr th:only-of-type {\n",
       "        vertical-align: middle;\n",
       "    }\n",
       "\n",
       "    .dataframe tbody tr th {\n",
       "        vertical-align: top;\n",
       "    }\n",
       "\n",
       "    .dataframe thead th {\n",
       "        text-align: right;\n",
       "    }\n",
       "</style>\n",
       "<table border=\"1\" class=\"dataframe\">\n",
       "  <thead>\n",
       "    <tr style=\"text-align: right;\">\n",
       "      <th></th>\n",
       "      <th>name</th>\n",
       "      <th>state_code</th>\n",
       "      <th>city</th>\n",
       "      <th>country_code</th>\n",
       "      <th>latitude</th>\n",
       "      <th>longitude</th>\n",
       "    </tr>\n",
       "  </thead>\n",
       "  <tbody>\n",
       "    <tr>\n",
       "      <th>0</th>\n",
       "      <td>Wize</td>\n",
       "      <td>CA</td>\n",
       "      <td>Burlingame</td>\n",
       "      <td>USA</td>\n",
       "      <td>37.559287</td>\n",
       "      <td>-122.302262</td>\n",
       "    </tr>\n",
       "    <tr>\n",
       "      <th>1</th>\n",
       "      <td>Zlio</td>\n",
       "      <td>None</td>\n",
       "      <td>Paris</td>\n",
       "      <td>FRA</td>\n",
       "      <td>48.862825</td>\n",
       "      <td>2.381836</td>\n",
       "    </tr>\n",
       "    <tr>\n",
       "      <th>2</th>\n",
       "      <td>TheFind</td>\n",
       "      <td>CA</td>\n",
       "      <td>Mountain View</td>\n",
       "      <td>USA</td>\n",
       "      <td>37.391502</td>\n",
       "      <td>-122.073463</td>\n",
       "    </tr>\n",
       "    <tr>\n",
       "      <th>3</th>\n",
       "      <td>Zazzle</td>\n",
       "      <td>CA</td>\n",
       "      <td>Redwood City</td>\n",
       "      <td>USA</td>\n",
       "      <td>37.510854</td>\n",
       "      <td>-122.201356</td>\n",
       "    </tr>\n",
       "    <tr>\n",
       "      <th>4</th>\n",
       "      <td>Kaboodle</td>\n",
       "      <td>CA</td>\n",
       "      <td>Sunnyvale</td>\n",
       "      <td>USA</td>\n",
       "      <td>37.382162</td>\n",
       "      <td>-122.036301</td>\n",
       "    </tr>\n",
       "    <tr>\n",
       "      <th>...</th>\n",
       "      <td>...</td>\n",
       "      <td>...</td>\n",
       "      <td>...</td>\n",
       "      <td>...</td>\n",
       "      <td>...</td>\n",
       "      <td>...</td>\n",
       "    </tr>\n",
       "    <tr>\n",
       "      <th>618</th>\n",
       "      <td>Top Rated Website Designers</td>\n",
       "      <td>CA</td>\n",
       "      <td>Los Angeles</td>\n",
       "      <td>USA</td>\n",
       "      <td>33.993326</td>\n",
       "      <td>-118.398784</td>\n",
       "    </tr>\n",
       "    <tr>\n",
       "      <th>619</th>\n",
       "      <td>Top Rated Website Designers</td>\n",
       "      <td>CA</td>\n",
       "      <td>San Diego</td>\n",
       "      <td>USA</td>\n",
       "      <td>33.141212</td>\n",
       "      <td>-117.320512</td>\n",
       "    </tr>\n",
       "    <tr>\n",
       "      <th>620</th>\n",
       "      <td>EscapeHomes</td>\n",
       "      <td>TX</td>\n",
       "      <td>Austin</td>\n",
       "      <td>USA</td>\n",
       "      <td>NaN</td>\n",
       "      <td>NaN</td>\n",
       "    </tr>\n",
       "    <tr>\n",
       "      <th>621</th>\n",
       "      <td>Lift Media</td>\n",
       "      <td>CA</td>\n",
       "      <td>San Francisco</td>\n",
       "      <td>USA</td>\n",
       "      <td>NaN</td>\n",
       "      <td>NaN</td>\n",
       "    </tr>\n",
       "    <tr>\n",
       "      <th>622</th>\n",
       "      <td>Nokaut</td>\n",
       "      <td>None</td>\n",
       "      <td>Gdynia</td>\n",
       "      <td>POL</td>\n",
       "      <td>NaN</td>\n",
       "      <td>NaN</td>\n",
       "    </tr>\n",
       "  </tbody>\n",
       "</table>\n",
       "<p>623 rows × 6 columns</p>\n",
       "</div>"
      ],
      "text/plain": [
       "                            name state_code           city country_code  \\\n",
       "0                           Wize         CA     Burlingame          USA   \n",
       "1                           Zlio       None          Paris          FRA   \n",
       "2                        TheFind         CA  Mountain View          USA   \n",
       "3                         Zazzle         CA   Redwood City          USA   \n",
       "4                       Kaboodle         CA      Sunnyvale          USA   \n",
       "..                           ...        ...            ...          ...   \n",
       "618  Top Rated Website Designers         CA    Los Angeles          USA   \n",
       "619  Top Rated Website Designers         CA      San Diego          USA   \n",
       "620                  EscapeHomes         TX         Austin          USA   \n",
       "621                   Lift Media         CA  San Francisco          USA   \n",
       "622                       Nokaut       None         Gdynia          POL   \n",
       "\n",
       "      latitude   longitude  \n",
       "0    37.559287 -122.302262  \n",
       "1    48.862825    2.381836  \n",
       "2    37.391502 -122.073463  \n",
       "3    37.510854 -122.201356  \n",
       "4    37.382162 -122.036301  \n",
       "..         ...         ...  \n",
       "618  33.993326 -118.398784  \n",
       "619  33.141212 -117.320512  \n",
       "620        NaN         NaN  \n",
       "621        NaN         NaN  \n",
       "622        NaN         NaN  \n",
       "\n",
       "[623 rows x 6 columns]"
      ]
     },
     "execution_count": 7,
     "metadata": {},
     "output_type": "execute_result"
    }
   ],
   "source": [
    "from pandas.io.json import json_normalize\n",
    "state = db.companies.find({'$and':[{'category_code':'ecommerce'},{'offices.state_code':{'$exists':True}}]},{'_id':0,'name':1,'offices':1})\n",
    "state= json_normalize(state,'offices',['name'])\n",
    "state = state[['name','state_code','city', 'country_code','latitude','longitude']]\n",
    "state"
   ]
  },
  {
   "cell_type": "code",
   "execution_count": 8,
   "metadata": {},
   "outputs": [
    {
     "data": {
      "text/plain": [
       "state_code\n",
       "CA    124\n",
       "NY     48\n",
       "FL     18\n",
       "WA     17\n",
       "TX     16\n",
       "MA     15\n",
       "IL     14\n",
       "CO     10\n",
       "NC      9\n",
       "Name: city, dtype: int64"
      ]
     },
     "execution_count": 8,
     "metadata": {},
     "output_type": "execute_result"
    }
   ],
   "source": [
    "state.groupby('state_code')['city'].count().sort_values()[:-10:-1]"
   ]
  },
  {
   "cell_type": "markdown",
   "metadata": {},
   "source": [
    "The top ten states with ecommerce are these ones. California and New York are big cities, easy access to delivery and fast delivery, but high rents. So FL, WA and TX are the most viable. "
   ]
  },
  {
   "cell_type": "markdown",
   "metadata": {},
   "source": [
    "If we plan to sell in Mexico too, Texas is the best option since it's close to the border and there are several "
   ]
  },
  {
   "cell_type": "code",
   "execution_count": 9,
   "metadata": {},
   "outputs": [],
   "source": [
    "texas =state[state['state_code']=='TX']\n",
    "texas = texas.dropna().reset_index()"
   ]
  },
  {
   "cell_type": "code",
   "execution_count": 10,
   "metadata": {},
   "outputs": [
    {
     "data": {
      "text/html": [
       "<div style=\"width:100%;\"><div style=\"position:relative;width:100%;height:0;padding-bottom:60%;\"><span style=\"color:#565656\">Make this Notebook Trusted to load map: File -> Trust Notebook</span><iframe src=\"about:blank\" style=\"position:absolute;width:100%;height:100%;left:0;top:0;border:none !important;\" data-html=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 onload=\"this.contentDocument.open();this.contentDocument.write(atob(this.getAttribute('data-html')));this.contentDocument.close();\" allowfullscreen webkitallowfullscreen mozallowfullscreen></iframe></div></div>"
      ],
      "text/plain": [
       "<folium.folium.Map at 0x7fc63991f070>"
      ]
     },
     "execution_count": 10,
     "metadata": {},
     "output_type": "execute_result"
    }
   ],
   "source": [
    "import folium\n",
    "map1 = folium.Map(location=[30.9937281,-97.5196869])\n",
    "\n",
    "for i in range(len(texas['latitude'])):\n",
    "\n",
    "    folium.Marker([texas['latitude'][i], texas['longitude'][i]], icon=folium.Icon(color='green')).add_to(map1)\n",
    "\n",
    "    \n",
    "sw = texas[['latitude', 'longitude']].min().values.tolist()\n",
    "ne = texas[['latitude', 'longitude']].max().values.tolist()\n",
    "\n",
    "map1.fit_bounds([sw, ne]) \n",
    "map1"
   ]
  },
  {
   "cell_type": "markdown",
   "metadata": {},
   "source": [
    "We had a wrong address  becuase it appaears in Washington even though\n",
    "it is marked as TX.\n",
    "We can choose one of these 3 cities."
   ]
  },
  {
   "cell_type": "code",
   "execution_count": null,
   "metadata": {},
   "outputs": [],
   "source": []
  }
 ],
 "metadata": {
  "kernelspec": {
   "display_name": "Python 3",
   "language": "python",
   "name": "python3"
  },
  "language_info": {
   "codemirror_mode": {
    "name": "ipython",
    "version": 3
   },
   "file_extension": ".py",
   "mimetype": "text/x-python",
   "name": "python",
   "nbconvert_exporter": "python",
   "pygments_lexer": "ipython3",
   "version": "3.8.3"
  }
 },
 "nbformat": 4,
 "nbformat_minor": 4
}
